{
 "cells": [
  {
   "cell_type": "code",
   "execution_count": null,
   "metadata": {},
   "outputs": [],
   "source": [
    "import os\n",
    "import sys\n",
    "from pathlib import Path\n",
    "\n",
    "current_dir = Path(os.getcwd())\n",
    "sys.path.append(str(current_dir.parent))\n",
    "import config\n",
    "\n",
    "archive_path = config.ARCHIVE_PATH"
   ]
  },
  {
   "cell_type": "code",
   "execution_count": null,
   "metadata": {},
   "outputs": [],
   "source": [
    "def list_files_in_directory(path):\n",
    "    try:\n",
    "        items = os.listdir(path)\n",
    "        for item in items:\n",
    "            full_path = os.path.join(path, item)\n",
    "            if os.path.isdir(full_path):\n",
    "                print(f\"[DIR] {full_path}\")\n",
    "            else:\n",
    "                print(f\"[FILE] {full_path}\")\n",
    "            if os.path.isdir(full_path):\n",
    "                list_files_in_directory(full_path)\n",
    "    except Exception as e:\n",
    "        print(f\"Ошибка: {e}\")"
   ]
  },
  {
   "cell_type": "code",
   "execution_count": 5,
   "metadata": {},
   "outputs": [],
   "source": [
    "def list_dir(path):\n",
    "    try:\n",
    "        items = os.listdir(path)\n",
    "        for item in items:\n",
    "            print(item)\n",
    "    except Exception as e:\n",
    "        print(f\"Ошибка: {e}\")"
   ]
  },
  {
   "cell_type": "code",
   "execution_count": 6,
   "metadata": {},
   "outputs": [
    {
     "name": "stdout",
     "output_type": "stream",
     "text": [
      ".ipynb_checkpoints\n",
      "advert_source\n",
      "application\n",
      "cab_customer\n",
      "crm_account\n",
      "crm_account_status\n",
      "crm_account_type\n",
      "crm_customer\n",
      "crm_transaction\n",
      "crm_transaction_type\n",
      "cust_tp_acc\n",
      "product_type\n",
      "service_request\n",
      "service_request_status\n",
      "service_request_type\n"
     ]
    }
   ],
   "source": [
    "list_dir(archive_path)"
   ]
  }
 ],
 "metadata": {
  "kernelspec": {
   "display_name": "Python 3",
   "language": "python",
   "name": "python3"
  },
  "language_info": {
   "codemirror_mode": {
    "name": "ipython",
    "version": 3
   },
   "file_extension": ".py",
   "mimetype": "text/x-python",
   "name": "python",
   "nbconvert_exporter": "python",
   "pygments_lexer": "ipython3",
   "version": "3.13.2"
  }
 },
 "nbformat": 4,
 "nbformat_minor": 2
}
