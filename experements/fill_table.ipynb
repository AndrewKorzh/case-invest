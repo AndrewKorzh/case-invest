{
 "cells": [
  {
   "cell_type": "code",
   "execution_count": null,
   "metadata": {},
   "outputs": [],
   "source": [
    "import os\n",
    "import sys\n",
    "from pathlib import Path\n",
    "import psycopg2\n",
    "import csv\n",
    "\n",
    "current_dir = Path(os.getcwd())\n",
    "sys.path.append(str(current_dir.parent))\n",
    "import config\n",
    "\n",
    "db_config = config.db_config"
   ]
  },
  {
   "cell_type": "code",
   "execution_count": null,
   "metadata": {},
   "outputs": [],
   "source": [
    "def read_headers(file_path) -> list:\n",
    "    with open(file_path, 'r') as f:\n",
    "        headers = f.readline()\n",
    "    headers_list = [header.strip() for header in headers.split(\",\")]\n",
    "    return headers_list"
   ]
  },
  {
   "cell_type": "code",
   "execution_count": null,
   "metadata": {},
   "outputs": [],
   "source": [
    "schema_name = \"test_tables\"\n",
    "transaction_type_table_name = \"crm_transaction_type\"\n",
    "\n",
    "\n",
    "transaction_type_columns_required = [\"transaction_type_cd\",\"transaction_type_nm\"]\n",
    "transaction_type_file_path = \"data\\\\tr_type.csv\"\n",
    "\n",
    "print(transaction_type_columns_required)\n",
    "transaction_type_columns_parsed = read_headers(transaction_type_file_path)\n",
    "print(transaction_type_columns_parsed)\n",
    "headers_flag = transaction_type_columns_required == transaction_type_columns_parsed\n",
    "print(headers_flag)\n",
    "possibility_flag =  len(transaction_type_columns_required) == len(transaction_type_columns_parsed)\n",
    "print(possibility_flag)"
   ]
  },
  {
   "cell_type": "code",
   "execution_count": null,
   "metadata": {},
   "outputs": [],
   "source": [
    "\n",
    "if possibility_flag:\n",
    "    conn = psycopg2.connect(**db_config)\n",
    "    cur = conn.cursor()\n",
    "\n",
    "    try:\n",
    "        with open(transaction_type_file_path, 'r') as f:\n",
    "\n",
    "            cur.copy_expert(\n",
    "                sql=f\"\"\"\n",
    "                COPY {schema_name}.{transaction_type_table_name}\n",
    "                ({\", \".join(transaction_type_columns_required)})\n",
    "                FROM STDIN WITH (FORMAT CSV, HEADER {headers_flag}, DELIMITER ',')\n",
    "                \"\"\",\n",
    "                file=f \n",
    "            )\n",
    "    except Exception as e:\n",
    "        print(f\"Данные не загружены {str(e)}\")\n",
    "\n",
    "    conn.commit()\n",
    "    cur.close()\n",
    "    conn.close()\n",
    "\n",
    "    print(\"Закрыли соедниене.\")\n",
    "else:\n",
    "    print(\"wrong csv length\")\n"
   ]
  }
 ],
 "metadata": {
  "kernelspec": {
   "display_name": "Python 3",
   "language": "python",
   "name": "python3"
  },
  "language_info": {
   "codemirror_mode": {
    "name": "ipython",
    "version": 3
   },
   "file_extension": ".py",
   "mimetype": "text/x-python",
   "name": "python",
   "nbconvert_exporter": "python",
   "pygments_lexer": "ipython3",
   "version": "3.13.2"
  }
 },
 "nbformat": 4,
 "nbformat_minor": 2
}
